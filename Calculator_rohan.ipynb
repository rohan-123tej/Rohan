{
  "nbformat": 4,
  "nbformat_minor": 0,
  "metadata": {
    "colab": {
      "name": "Calculator_rohan.ipynb",
      "provenance": [],
      "authorship_tag": "ABX9TyMGzU65VZQOVGn7xcuXHQDi",
      "include_colab_link": true
    },
    "kernelspec": {
      "name": "python3",
      "display_name": "Python 3"
    },
    "language_info": {
      "name": "python"
    }
  },
  "cells": [
    {
      "cell_type": "markdown",
      "metadata": {
        "id": "view-in-github",
        "colab_type": "text"
      },
      "source": [
        "<a href=\"https://colab.research.google.com/github/rohan-123tej/Rohan/blob/main/Calculator_rohan.ipynb\" target=\"_parent\"><img src=\"https://colab.research.google.com/assets/colab-badge.svg\" alt=\"Open In Colab\"/></a>"
      ]
    },
    {
      "cell_type": "code",
      "source": [
        ""
      ],
      "metadata": {
        "id": "xwobD8ccO2fc"
      },
      "execution_count": null,
      "outputs": []
    },
    {
      "cell_type": "code",
      "execution_count": null,
      "metadata": {
        "id": "_rG9UoQXe_Wj",
        "colab": {
          "base_uri": "https://localhost:8080/"
        },
        "outputId": "f8b25ee9-9db3-4d13-ce28-95cf0fcfdd7c"
      },
      "outputs": [
        {
          "output_type": "stream",
          "name": "stdout",
          "text": [
            "===== Welcome to Calculator App =====\n",
            "\n",
            "What would you like to do:-\n",
            "1. Addition\n",
            "2. Subtraction\n",
            "3  Multiplication\n",
            "4. Division\n",
            "5. Exit\n",
            "Enter your choice: 1\n",
            "Enter first number: 2\n",
            "Enter second number: 9\n",
            "Output:  11\n",
            "\n",
            "What would you like to do:-\n",
            "1. Addition\n",
            "2. Subtraction\n",
            "3  Multiplication\n",
            "4. Division\n",
            "5. Exit\n"
          ]
        }
      ],
      "source": [
        "print(\"===== Welcome to Calculator App =====\\n\")\n",
        "while 1:\n",
        "    print(\"What would you like to do:-\")\n",
        "    print(\"1. Addition\")\n",
        "    print(\"2. Subtraction\")\n",
        "    print(\"3  Multiplication\")\n",
        "    print(\"4. Division\")\n",
        "    print(\"5. Exit\")\n",
        "    choice = int(input(\"Enter your choice: \"))\n",
        "    if choice == 1:\n",
        "        num1 = int(input(\"Enter first number: \"))\n",
        "        num2 = int(input(\"Enter second number: \"))\n",
        "        print(\"Output: \", num1+num2)\n",
        "    elif choice == 2:\n",
        "        num1 = int(input(\"Enter first number: \"))\n",
        "        num2 = int(input(\"Enter second number: \"))\n",
        "        print(\"Output: \", num1-num2)\n",
        "    elif choice == 3:\n",
        "        num1 = int(input(\"Enter first number: \"))\n",
        "        num2 = int(input(\"Enter second number: \"))\n",
        "        print(\"Output: \", num1*num2)\n",
        "    elif choice == 4:\n",
        "        num1 = int(input(\"Enter first number: \"))\n",
        "        num2 = int(input(\"Enter second number: \"))\n",
        "        print(\"Output: \", num1/num2)\n",
        "    elif choice == 5:\n",
        "        print(\"Exiting...\")\n",
        "        break\n",
        "    print()"
      ]
    }
  ]
}